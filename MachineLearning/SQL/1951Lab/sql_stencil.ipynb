{
 "cells": [
  {
   "cell_type": "markdown",
   "metadata": {
    "id": "5b2x07r_2WFC"
   },
   "source": [
    "# SQL Lab\n",
    "**Make sure you save a copy of this lab and `people.db` on your own drive before starting the lab!**\n",
    "\n",
    "- For the lab, you can go to \"File\" -> \"Save a copy in Drive\"\n",
    "- For the database, you need to download `people.db` and upload it to your own drive\n",
    "\n",
    "\n",
    "For this lab, we are going to practice writing basic SQL queries. SQLite in Python provides a nice system for us to write SQL queries. You can read more about the difference between SQLite and SQL [here](https://www.javatpoint.com/sql-vs-sqlite)! In the future (for your final projects), also feel free to look into alternatives to SQLite for writing SQL queries and creating databases such as [these](https://stackshare.io/sqlite/alternatives)."
   ]
  },
  {
   "cell_type": "markdown",
   "metadata": {
    "id": "1RwCAFtrnoro"
   },
   "source": [
    "## **I. Working with databases in Python**\n",
    "\n",
    "1. Run this code to open a new database, called `sql_lab.db`"
   ]
  },
  {
   "cell_type": "code",
   "execution_count": 1,
   "metadata": {
    "colab": {
     "base_uri": "https://localhost:8080/"
    },
    "executionInfo": {
     "elapsed": 298,
     "status": "ok",
     "timestamp": 1653105853719,
     "user": {
      "displayName": "Jiahao Liu",
      "userId": "00329461473733113741"
     },
     "user_tz": 420
    },
    "id": "bV66E4Gq3_7x",
    "outputId": "65dba4d0-31e6-4f4f-a8fa-370806dafdbb"
   },
   "outputs": [
    {
     "data": {
      "text/plain": [
       "<sqlite3.Cursor at 0x104225420>"
      ]
     },
     "execution_count": 1,
     "metadata": {},
     "output_type": "execute_result"
    }
   ],
   "source": [
    "import sqlite3\n",
    "\n",
    "conn = sqlite3.connect('./sql_lab.db') # automatically creates new file for \n",
    "c = conn.cursor()\n",
    "# When using SQLite, include the following line to ensure foreign key commands are recognized\n",
    "c.execute('PRAGMA foreign_keys = ON')"
   ]
  },
  {
   "cell_type": "markdown",
   "metadata": {
    "id": "zF_XmMIG4SCs"
   },
   "source": [
    "2. Whenever you want to execute a SQL command that modifes the .db file (for example, `INSERT`, `UPDATE`, `CREATE TABLE`), you would want to commit those changes to the file. So, you can use the following syntax:"
   ]
  },
  {
   "cell_type": "code",
   "execution_count": 2,
   "metadata": {
    "id": "Fex-nlU343Au"
   },
   "outputs": [],
   "source": [
    "# this is the general syntax for commands that span multiple lines\n",
    "command1 = '''\n",
    "CREATE TABLE company\n",
    "(id INT PRIMARY KEY NOT NULL,\n",
    "name TEXT NOT NULL);\n",
    "'''\n",
    "\n",
    "# Use the execute function to execute the command\n",
    "c.execute(command1)\n",
    "\n",
    "# And then commit the changes to the file\n",
    "conn.commit()"
   ]
  },
  {
   "cell_type": "markdown",
   "metadata": {
    "id": "wF0u4p0Z7iPB"
   },
   "source": [
    "3. Whenever you want to query but not modify the file, you use a SELECT statement:"
   ]
  },
  {
   "cell_type": "code",
   "execution_count": 3,
   "metadata": {
    "colab": {
     "base_uri": "https://localhost:8080/"
    },
    "executionInfo": {
     "elapsed": 274,
     "status": "ok",
     "timestamp": 1643746647845,
     "user": {
      "displayName": "Jiahao Liu",
      "photoUrl": "https://lh3.googleusercontent.com/a/default-user=s64",
      "userId": "00329461473733113741"
     },
     "user_tz": 300
    },
    "id": "YW1jqbOJ7ths",
    "outputId": "4c2afc36-c97e-4367-b74e-3931cd37db0d"
   },
   "outputs": [
    {
     "data": {
      "text/plain": [
       "<sqlite3.Cursor at 0x104225420>"
      ]
     },
     "execution_count": 3,
     "metadata": {},
     "output_type": "execute_result"
    }
   ],
   "source": [
    "# this is the general syntax for in-line commands\n",
    "command2 = \"SELECT id, name FROM COMPANY;\"\n",
    "\n",
    "c.execute(command2)"
   ]
  },
  {
   "cell_type": "markdown",
   "metadata": {
    "id": "wfnY3gmh-LgQ"
   },
   "source": [
    "Once you have executed the query, you retreive the results by calling some variation of the fetch command (eg. fetchall, fetchmany, fetchone): "
   ]
  },
  {
   "cell_type": "code",
   "execution_count": 4,
   "metadata": {
    "colab": {
     "base_uri": "https://localhost:8080/"
    },
    "executionInfo": {
     "elapsed": 332,
     "status": "ok",
     "timestamp": 1643746666401,
     "user": {
      "displayName": "Jiahao Liu",
      "photoUrl": "https://lh3.googleusercontent.com/a/default-user=s64",
      "userId": "00329461473733113741"
     },
     "user_tz": 300
    },
    "id": "MGMhQ1mT-H46",
    "outputId": "edefa1a0-8397-413d-8834-a05234e6a627"
   },
   "outputs": [
    {
     "data": {
      "text/plain": [
       "[]"
      ]
     },
     "execution_count": 4,
     "metadata": {},
     "output_type": "execute_result"
    }
   ],
   "source": [
    "c.fetchall() # returns an empty list, since the table empty"
   ]
  },
  {
   "cell_type": "markdown",
   "metadata": {
    "id": "ot7xoQ_x78Qj"
   },
   "source": [
    "You can read more about working with SQLite in Python [here](https://www.tutorialspoint.com/sqlite/sqlite_python.htm)."
   ]
  },
  {
   "cell_type": "markdown",
   "metadata": {
    "id": "50vt278WX05L"
   },
   "source": [
    "## **II. Writing Queries to a Database**\n",
    "\n",
    "For this part of the lab, we have provided a database named people.db with the name, age, ID, and occupation and social connections of some (fake) Brown students and alumni. Here is the schema:\n",
    "\n",
    "*   people_main (ID INTEGER, name TEXT, occupation TEXT, age INTEGER)\n",
    "*   people_likes (ID1 INTEGER, ID2 INTEGER)\n",
    "*   people_friends (ID1 INTEGER, ID2 INTEGER)\n",
    "\n",
    "\n",
    "In the people_main table, ID is a unique identifier for a particular student or alumnus. Name, occupation and age correspond to the person's first name, occupation and age.\n",
    "\n",
    "In the people_friends table, each (ID1, ID2) pair indicates that the person with ID1 is friends with the person with ID2 (and vice versa). The friendship is mutual, and if (ID1, ID2) is in the table, it is guaranteed that (ID2, ID1) exists in the table.\n",
    "\n",
    "In the people_likes table, each (ID1, ID2) pair indicates that the student or alumnus with ID1 likes the person with ID2. The (ID1, ID2) pair in the table does not guarantee that the (ID2, ID1) pair also exists in the table.\n",
    "\n",
    "Your job is to write SQL queries for the data being requested for each part below.\n",
    "\n",
    "**Note**: You will be continuing this task in the assignment with the same database, so hopefully getting familiar with the database here will help you with the assignment!"
   ]
  },
  {
   "cell_type": "markdown",
   "metadata": {
    "id": "S1lpKj-_ZZ1a"
   },
   "source": [
    "Run the cell below to load the database:"
   ]
  },
  {
   "cell_type": "code",
   "execution_count": 31,
   "metadata": {
    "colab": {
     "base_uri": "https://localhost:8080/"
    },
    "executionInfo": {
     "elapsed": 1109,
     "status": "ok",
     "timestamp": 1643756422246,
     "user": {
      "displayName": "Jiahao Liu",
      "photoUrl": "https://lh3.googleusercontent.com/a/default-user=s64",
      "userId": "00329461473733113741"
     },
     "user_tz": 300
    },
    "id": "cPVsCP6z56Li",
    "outputId": "28c7c0c8-426d-48a6-f83f-ecbb0b1d8130"
   },
   "outputs": [],
   "source": [
    "import sqlite3\n",
    "path = \"./people.db\"\n",
    "conn = sqlite3.connect(path)\n",
    "c = conn.cursor()"
   ]
  },
  {
   "cell_type": "code",
   "execution_count": 8,
   "metadata": {
    "colab": {
     "base_uri": "https://localhost:8080/"
    },
    "executionInfo": {
     "elapsed": 3,
     "status": "ok",
     "timestamp": 1643748708603,
     "user": {
      "displayName": "Jiahao Liu",
      "photoUrl": "https://lh3.googleusercontent.com/a/default-user=s64",
      "userId": "00329461473733113741"
     },
     "user_tz": 300
    },
    "id": "dSy8_YuM_ZEQ",
    "outputId": "7b8c0481-1f58-4a1e-9912-0430b59b4b65"
   },
   "outputs": [
    {
     "name": "stdout",
     "output_type": "stream",
     "text": [
      "(1510, 'Jens', 'student', 25)\n",
      "(1689, 'Esteban', 'student', 105)\n",
      "(1381, 'Ryan', 'student', 94)\n",
      "(1709, 'Kevin', 'student', 26)\n",
      "(1101, 'Michael', 'engineer', 12)\n",
      "(1782, 'Luis', 'engineer', 99)\n",
      "(1468, 'Anne', 'engineer', 82)\n",
      "(1641, 'Andy', 'engineer', 57)\n",
      "(1247, 'Bob', 'doctor', 59)\n",
      "(1316, 'Tony', 'doctor', 29)\n",
      "(1501, 'Thomas', 'doctor', 16)\n",
      "(1911, 'Amy', 'doctor', 30)\n",
      "(1025, 'Ellie', 'professor', 35)\n",
      "(1934, 'Robert', 'professor', 53)\n",
      "(1661, 'Bill', 'professor', 76)\n",
      "(1304, 'Rachel', 'professor', 17)\n",
      "(1000, 'Kate', 'professor', 40)\n"
     ]
    }
   ],
   "source": [
    "# Basic Info of the Table\n",
    "# c.execute(\"PRAGMA table_info(people_main)\")\n",
    "# print(c.fetchall())\n",
    "# c.execute(\"PRAGMA table_info(people_likes)\")\n",
    "# c.fetchall()\n",
    "c.execute(\"SELECT * FROM people_main;\")\n",
    "for row in c.fetchall():\n",
    "  print(row)"
   ]
  },
  {
   "cell_type": "markdown",
   "metadata": {
    "id": "h00hb4YEBQj5"
   },
   "source": [
    "1. Write a SQL statement that returns the name of people, ordered by name (A-Z). Replace the question mark with the correct terms."
   ]
  },
  {
   "cell_type": "code",
   "execution_count": 9,
   "metadata": {
    "colab": {
     "base_uri": "https://localhost:8080/"
    },
    "executionInfo": {
     "elapsed": 257,
     "status": "ok",
     "timestamp": 1643748185234,
     "user": {
      "displayName": "Jiahao Liu",
      "photoUrl": "https://lh3.googleusercontent.com/a/default-user=s64",
      "userId": "00329461473733113741"
     },
     "user_tz": 300
    },
    "id": "Dbj4f7WR-AAo",
    "outputId": "e2e84db0-ca02-430a-edda-c0c9a8e87bc7"
   },
   "outputs": [
    {
     "name": "stdout",
     "output_type": "stream",
     "text": [
      "NAME =  Amy\n",
      "NAME =  Andy\n",
      "NAME =  Anne\n",
      "NAME =  Bill\n",
      "NAME =  Bob\n",
      "NAME =  Ellie\n",
      "NAME =  Esteban\n",
      "NAME =  Jens\n",
      "NAME =  Kate\n",
      "NAME =  Kevin\n",
      "NAME =  Luis\n",
      "NAME =  Michael\n",
      "NAME =  Rachel\n",
      "NAME =  Robert\n",
      "NAME =  Ryan\n",
      "NAME =  Thomas\n",
      "NAME =  Tony\n"
     ]
    }
   ],
   "source": [
    "command1 = '''\n",
    "SELECT\n",
    "  NAME\n",
    "FROM\n",
    "  people_main\n",
    "ORDER BY name ASC;\n",
    "'''\n",
    "\n",
    "# Do not modify below this line\n",
    "c.execute(command1)\n",
    "count = 0\n",
    "for row in c:\n",
    "  count += 1\n",
    "  print(\"NAME = \", row[0])\n",
    "assert count == 17"
   ]
  },
  {
   "cell_type": "markdown",
   "metadata": {
    "id": "QkYmJwktBYKl"
   },
   "source": [
    "2. Write a SQL statement that returns the name and age of people who are engineers or doctors. Results should be ordered by name (A-Z)."
   ]
  },
  {
   "cell_type": "code",
   "execution_count": 10,
   "metadata": {
    "colab": {
     "base_uri": "https://localhost:8080/"
    },
    "executionInfo": {
     "elapsed": 301,
     "status": "ok",
     "timestamp": 1643747906319,
     "user": {
      "displayName": "Jiahao Liu",
      "photoUrl": "https://lh3.googleusercontent.com/a/default-user=s64",
      "userId": "00329461473733113741"
     },
     "user_tz": 300
    },
    "id": "AgVdPU_s-bie",
    "outputId": "48516c07-e15f-4b9d-f265-967ddb880494"
   },
   "outputs": [
    {
     "name": "stdout",
     "output_type": "stream",
     "text": [
      "NAME =  Amy\n",
      "AGE =  30 \n",
      "\n",
      "NAME =  Andy\n",
      "AGE =  57 \n",
      "\n",
      "NAME =  Anne\n",
      "AGE =  82 \n",
      "\n",
      "NAME =  Bob\n",
      "AGE =  59 \n",
      "\n",
      "NAME =  Luis\n",
      "AGE =  99 \n",
      "\n",
      "NAME =  Michael\n",
      "AGE =  12 \n",
      "\n",
      "NAME =  Thomas\n",
      "AGE =  16 \n",
      "\n",
      "NAME =  Tony\n",
      "AGE =  29 \n",
      "\n"
     ]
    }
   ],
   "source": [
    "command2 = '''\n",
    "SELECT\n",
    "  name,\n",
    "  age,\n",
    "  occupation\n",
    "FROM\n",
    "  people_main\n",
    "WHERE\n",
    "  occupation = 'engineer' OR occupation = 'doctor'\n",
    "ORDER BY NAME;\n",
    "'''\n",
    "\n",
    "# Do not modify below this line\n",
    "c.execute(command2)\n",
    "count = 0\n",
    "for row in c:\n",
    "   print(\"NAME = \", row[0])\n",
    "   print(\"AGE = \", row[1], \"\\n\")\n",
    "   count += 1\n",
    "# assert count == 8"
   ]
  },
  {
   "cell_type": "markdown",
   "metadata": {
    "id": "FB46kzEyBftn"
   },
   "source": [
    "3. Write a SQL statement that returns the name of people that are liked by at least one other person. Results should be ordered by name (A-Z).\n",
    "Careful! Some people are liked multiple times, but their name should only appear once. Take a look at the DISTINCT and IN operators."
   ]
  },
  {
   "cell_type": "code",
   "execution_count": 27,
   "metadata": {
    "colab": {
     "base_uri": "https://localhost:8080/"
    },
    "executionInfo": {
     "elapsed": 606,
     "status": "ok",
     "timestamp": 1643748071256,
     "user": {
      "displayName": "Jiahao Liu",
      "photoUrl": "https://lh3.googleusercontent.com/a/default-user=s64",
      "userId": "00329461473733113741"
     },
     "user_tz": 300
    },
    "id": "zQPTvhBk-wnQ",
    "outputId": "de98608f-65fb-4356-f634-9cd776fbd714"
   },
   "outputs": [
    {
     "name": "stdout",
     "output_type": "stream",
     "text": [
      "NAME =  Anne\n",
      "NAME =  Bob\n",
      "NAME =  Esteban\n",
      "NAME =  Kevin\n",
      "NAME =  Michael\n",
      "NAME =  Rachel\n",
      "NAME =  Robert\n",
      "NAME =  Thomas\n",
      "\n",
      "\n",
      "\n",
      "NAME =  Anne\n",
      "NAME =  Bob\n",
      "NAME =  Esteban\n",
      "NAME =  Kevin\n",
      "NAME =  Michael\n",
      "NAME =  Rachel\n",
      "NAME =  Robert\n",
      "NAME =  Thomas\n"
     ]
    }
   ],
   "source": [
    "command3 = '''\n",
    "SELECT\n",
    "    name\n",
    "FROM\n",
    "  people_main\n",
    "WHERE\n",
    "  id IN (SELECT id2 FROM people_likes)\n",
    "ORDER BY name ASC;\n",
    "'''\n",
    "\n",
    "# Do not modify below this line\n",
    "c.execute(command3)\n",
    "count = 0\n",
    "for row in c:\n",
    "   print(\"NAME = \", row[0])\n",
    "   count += 1\n",
    "assert count == 8\n",
    "\n",
    "print('\\n\\n')\n",
    "\n",
    "\n",
    "command3_1 = '''\n",
    "SELECT \n",
    "    DISTINCT name\n",
    "FROM \n",
    "    people_main as M\n",
    "INNER JOIN people_likes as L ON \n",
    "    M.id = L.id2\n",
    "ORDER BY name ASC;\n",
    "'''\n",
    "\n",
    "c.execute(command3_1)\n",
    "count = 0\n",
    "for row in c:\n",
    "   print(\"NAME = \", row[0])\n",
    "   count += 1\n",
    "assert count == 8"
   ]
  },
  {
   "cell_type": "markdown",
   "metadata": {
    "id": "Au93tiFiBknp"
   },
   "source": [
    "4. Write a SQL statement that returns the name of people who aren’t liked by anyone else. Results should be ordered by name (A-Z).\n",
    "Hint: This should be very similar to the previous question!"
   ]
  },
  {
   "cell_type": "code",
   "execution_count": 28,
   "metadata": {
    "colab": {
     "base_uri": "https://localhost:8080/"
    },
    "executionInfo": {
     "elapsed": 3,
     "status": "ok",
     "timestamp": 1643748278340,
     "user": {
      "displayName": "Jiahao Liu",
      "photoUrl": "https://lh3.googleusercontent.com/a/default-user=s64",
      "userId": "00329461473733113741"
     },
     "user_tz": 300
    },
    "id": "eh-D4W0q-9sK",
    "outputId": "72887ab9-dad7-431d-8cdd-1f781b690f81"
   },
   "outputs": [
    {
     "name": "stdout",
     "output_type": "stream",
     "text": [
      "NAME =  Amy\n",
      "NAME =  Andy\n",
      "NAME =  Bill\n",
      "NAME =  Ellie\n",
      "NAME =  Jens\n",
      "NAME =  Kate\n",
      "NAME =  Luis\n",
      "NAME =  Ryan\n",
      "NAME =  Tony\n"
     ]
    }
   ],
   "source": [
    "command4 = '''\n",
    "SELECT\n",
    "  name\n",
    "FROM\n",
    "  people_main\n",
    "WHERE\n",
    "  id not IN (SELECT id2 FROM people_likes) \n",
    "ORDER BY name ASC;\n",
    "'''\n",
    "\n",
    "# Do not modify below this line\n",
    "c.execute(command4)\n",
    "count = 0\n",
    "for row in c:\n",
    "   print(\"NAME = \", row[0])\n",
    "   count += 1\n",
    "assert count == 9"
   ]
  },
  {
   "cell_type": "markdown",
   "metadata": {
    "id": "ZfktfHjPBo7N"
   },
   "source": [
    "5. Write a SQL statement that returns each occupation and the number of people with that occupation. Results should be ordered by number of people within that occupation (descending), and then by occupation (A-Z).\n",
    "Hint: Look at GROUP BY and COUNT."
   ]
  },
  {
   "cell_type": "code",
   "execution_count": 32,
   "metadata": {
    "colab": {
     "base_uri": "https://localhost:8080/"
    },
    "executionInfo": {
     "elapsed": 289,
     "status": "ok",
     "timestamp": 1643748636236,
     "user": {
      "displayName": "Jiahao Liu",
      "photoUrl": "https://lh3.googleusercontent.com/a/default-user=s64",
      "userId": "00329461473733113741"
     },
     "user_tz": 300
    },
    "id": "QAIaJ1tz_Muv",
    "outputId": "5d825cdf-e912-4f3c-f303-938ef2dee55a"
   },
   "outputs": [
    {
     "name": "stdout",
     "output_type": "stream",
     "text": [
      "OCCUPATION =  professor\n",
      "NUMBER =  5 \n",
      "\n",
      "OCCUPATION =  doctor\n",
      "NUMBER =  4 \n",
      "\n",
      "OCCUPATION =  engineer\n",
      "NUMBER =  4 \n",
      "\n",
      "OCCUPATION =  student\n",
      "NUMBER =  4 \n",
      "\n"
     ]
    }
   ],
   "source": [
    "command5 = '''\n",
    "SELECT\n",
    "  occupation, COUNT(id) \n",
    "FROM\n",
    "  people_main\n",
    "GROUP BY occupation\n",
    "ORDER BY COUNT(id) DESC, occupation ASC;\n",
    "'''\n",
    "\n",
    "\n",
    "# command5 = '''\n",
    "# SELECT \n",
    "#     occupation, count(name) as cnt\n",
    "# FROM\n",
    "#     people_main\n",
    "# GROUP BY occupation\n",
    "# ORDER BY cnt DESC, occupation ASC;\n",
    "# '''\n",
    "\n",
    "# Do not modify below this line\n",
    "c.execute(command5)\n",
    "count = 0\n",
    "for row in c:\n",
    "   print(\"OCCUPATION = \", row[0])\n",
    "   print(\"NUMBER = \", row[1], \"\\n\")\n",
    "   assert row[1] <= 5\n",
    "   count += 1\n",
    "assert count == 4\n",
    "\n",
    "c.close()\n",
    "conn.close()"
   ]
  },
  {
   "cell_type": "markdown",
   "metadata": {
    "id": "qZXkKwZVLLxO"
   },
   "source": [
    "## **III. Theory**\n",
    "\n",
    "Read about primary keys [here](https://www.w3schools.com/sql/sql_primarykey.ASP) and foreign keys [here](https://www.w3schools.com/sql/sql_foreignkey.asp).\n",
    "\n",
    "**Some key takeaways (heh, pun intended)**:\n",
    "\n",
    "Primary key:\n",
    "- A primary key of a table serves to identify different records in that  table. It therefore must be not null and unique for each row. It is declared with the \"PRIMARY KEY\" keyword.\n",
    "- A table can only have one primary key, and those primary keys can consist of multiple fields (i.e. a combination of things, for example, a name, date of birth, and ZIP code).\n",
    "\n",
    "Foreign key\n",
    "- A foreign key on attribute Q in table B is a reference to an attribute P in table A. It is declared with the keywords \"FOREIGN KEY REFERENCES table_A(attribute_P).\"\n",
    "- A foreign key, unlike a primary key, can have a NULL value, and does not need to be unique.\n",
    "- The FOREIGN KEY constraint is used to prevent actions that would destroy links between tables.\n",
    "\n",
    "- A FOREIGN KEY is a field (or collection of fields) in one table, that refers to the PRIMARY KEY in another table.\n",
    "\n",
    "- The table with the foreign key is called the child table, and the table with the primary key is called the referenced or parent table.\n"
   ]
  },
  {
   "cell_type": "markdown",
   "metadata": {
    "id": "s0a6alesgDRs"
   },
   "source": [
    "## **IV. Designing a database**\n",
    "\n",
    "You want to create a database that keeps track of the information of all the students at Brown, and the courses that they are taking.\n",
    "\n",
    "You know the following about the students:\n",
    "- The students may share the same name\n",
    "- Each student has to have a name\n",
    "- Each student has a unique Banner ID\n",
    "- Each student takes at most five courses (there’s a possibility that the student isn't taking any courses if they are taking a gap semester, for example)\n",
    "\n",
    "You know the following about the courses:\n",
    "- Each course has a course code and a course name\n",
    "- Each course can have different offerings by different professors. For example, `MATH0520` - Linear Algebra - can be taught by Professor Landman, Professor Ivanov, and Professor Li, in the same semester.\n",
    "\n",
    "You also know your expectations with this database schema:\n",
    "The University is going to use this database to get\n",
    "- (1) the list of students that are enrolled in a course,\n",
    "- (2) a list of courses that a student is enrolled in\n",
    "\n",
    "<!-- To do this, you create three tables with the following schemas: \n",
    "\n",
    "student(banner_id, student_name)\n",
    "course(course_code, course_name, professor_name)\n",
    "takes(banner_id, course_id, professor_name) -->\n",
    "\n",
    "> ### **Check-off:**\n",
    "- From your knowledge about primary keys and foreign keys, identify all potential primary keys and foreign keys for the schema above.\n",
    "- Design necessary database schema(s) that would satisfy the requirements above\n",
    "- Write your schema below in the format `table_name(attribute1, attribute2, etc)` and show to a TA:"
   ]
  },
  {
   "cell_type": "code",
   "execution_count": 53,
   "metadata": {
    "id": "JgSofJgnFdhn"
   },
   "outputs": [
    {
     "data": {
      "text/plain": [
       "'\\nStudentTable{\\n  bannerID PrimaryKey,\\n  name NOT NULL,\\n  courseTaking Multi-Value-Max(5),\\n}\\n\\nCourseTable{\\n  code PrimaryKey,\\n  name NOT NULL,\\n  professors Multi-Value NOT NULL PrimaryKey,\\n}\\n'"
      ]
     },
     "execution_count": 53,
     "metadata": {},
     "output_type": "execute_result"
    }
   ],
   "source": [
    "# Your schema here:\n",
    "\"\"\"\n",
    "StudentTable{\n",
    "  bannerID PrimaryKey,\n",
    "  name NOT NULL,\n",
    "  courseTaking Multi-Value-Max(5),\n",
    "}\n",
    "\n",
    "CourseTable{\n",
    "  code PrimaryKey,\n",
    "  name NOT NULL,\n",
    "  professors Multi-Value NOT NULL PrimaryKey,\n",
    "}\n",
    "\"\"\"\n",
    "\n"
   ]
  },
  {
   "cell_type": "markdown",
   "metadata": {
    "id": "Hds2ZODtCzK-"
   },
   "source": [
    "## **V. Creating and modifying a database**\n",
    "\n",
    "#### Note: For the rest of this half of the lab, please use the following schema for your tables, regardless of the schemas you came up with above. (Also, please note that the following table is designed only for the purpose of helping you learn in this lab but violates the standards of first normal form. To learn more about first normal form, see [here](https://en.wikipedia.org/wiki/First_normal_form) or take a databases course, like CSCI 1270):\n",
    "```\n",
    "students(banner_id, name, course_one, course_one_prof_last_name, course_two, course_two_last, course_three, course_three_last)\n",
    "courses(course_code, course_name, course_professor_last_name)\n",
    "```\n",
    "\n",
    "\n",
    "### 1. `CREATE` statement\n",
    "\n",
    "You can read more about the `CREATE` statement [here](https://www.w3schools.com/sql/sql_create_table.asp).\n",
    "\n",
    "> ### **Check-off:**\n",
    "Using the CREATE statement that we learned in class (and the link above), create table(s) in the database that represent the schema described above. Using the information that you already acquired about primary keys and foreign keys, be sure to represent these key constraints (among other attributes like the type or \"NOT NULL\") in your table(s)!\n"
   ]
  },
  {
   "cell_type": "code",
   "execution_count": 61,
   "metadata": {
    "colab": {
     "base_uri": "https://localhost:8080/"
    },
    "executionInfo": {
     "elapsed": 14646,
     "status": "ok",
     "timestamp": 1643753502743,
     "user": {
      "displayName": "Jiahao Liu",
      "photoUrl": "https://lh3.googleusercontent.com/a/default-user=s64",
      "userId": "00329461473733113741"
     },
     "user_tz": 300
    },
    "id": "GsLUijCCEgyI",
    "outputId": "7cc54713-41e6-4e41-957e-3ba82a7e4105"
   },
   "outputs": [],
   "source": [
    "import sqlite3\n",
    "\n",
    "conn = sqlite3.connect(\"./university.db\")\n",
    "c = conn.cursor()"
   ]
  },
  {
   "cell_type": "code",
   "execution_count": 62,
   "metadata": {
    "colab": {
     "base_uri": "https://localhost:8080/"
    },
    "executionInfo": {
     "elapsed": 189,
     "status": "ok",
     "timestamp": 1643754656698,
     "user": {
      "displayName": "Jiahao Liu",
      "photoUrl": "https://lh3.googleusercontent.com/a/default-user=s64",
      "userId": "00329461473733113741"
     },
     "user_tz": 300
    },
    "id": "0P-POBi3WCRz",
    "outputId": "bbff28f7-c601-4d1b-c5d7-6af8e312f32b"
   },
   "outputs": [
    {
     "data": {
      "text/plain": [
       "<sqlite3.Cursor at 0x104ddb570>"
      ]
     },
     "execution_count": 62,
     "metadata": {},
     "output_type": "execute_result"
    }
   ],
   "source": [
    "# Run this code block if you would like to drop your tables\n",
    "c.execute('PRAGMA foreign_keys = OFF')\n",
    "\n",
    "# c.execute('DROP TABLE IF EXISTS Courses;')\n",
    "# c.execute('DROP TABLE IF EXISTS Students;')\n",
    "\n",
    "c.execute('PRAGMA foreign_keys = ON')"
   ]
  },
  {
   "cell_type": "code",
   "execution_count": 63,
   "metadata": {
    "colab": {
     "base_uri": "https://localhost:8080/"
    },
    "executionInfo": {
     "elapsed": 170,
     "status": "ok",
     "timestamp": 1643754657613,
     "user": {
      "displayName": "Jiahao Liu",
      "photoUrl": "https://lh3.googleusercontent.com/a/default-user=s64",
      "userId": "00329461473733113741"
     },
     "user_tz": 300
    },
    "id": "x97Lr0K4Cy3S",
    "outputId": "6d9c8ebf-4286-4aed-90ce-cc8778c72369"
   },
   "outputs": [
    {
     "data": {
      "text/plain": [
       "<sqlite3.Cursor at 0x104ddb570>"
      ]
     },
     "execution_count": 63,
     "metadata": {},
     "output_type": "execute_result"
    }
   ],
   "source": [
    "# Create your tables here\n",
    "# Don't forget to execute and commit!\n",
    "\n",
    "# create one table\n",
    "create_courses_table_command = '''\n",
    "CREATE TABLE IF NOT EXISTS Courses (\n",
    "\tcourse_code char(8) NOT NULL,\n",
    "\tcourse_name varchar(255) NOT NULL,\n",
    "\tcourse_professor_last_name varchar(255) NOT NULL,\n",
    "\tPRIMARY KEY (course_code, course_professor_last_name)\n",
    ");\n",
    "'''\n",
    "\n",
    "\n",
    "# execute\n",
    "c.execute(create_courses_table_command)\n",
    "\n",
    "# create second table (read about ON DELETE SET NULL in section 3 below!)\n",
    "create_student_table_command = '''\n",
    "CREATE TABLE IF NOT EXISTS Students (\n",
    "\tbanner_id char(5) NOT NULL,\n",
    "\tname varchar(255) NOT NULL,\n",
    "\tcourse_one char(8),\n",
    "\tcourse_one_prof_last_name varchar(255),\n",
    "\tcourse_two char(8),\n",
    "\tcourse_two_prof_last_name varchar(255),\n",
    "\tcourse_three char(8),\n",
    "\tcourse_three_prof_last_name varchar(255),\n",
    "\tPRIMARY KEY (banner_id),\n",
    "\tFOREIGN KEY (course_one, course_one_prof_last_name) REFERENCES Courses(course_code, course_professor_last_name) ON DELETE SET NULL,\n",
    "\tFOREIGN KEY (course_two, course_two_prof_last_name) REFERENCES Courses(course_code, course_professor_last_name) ON DELETE SET NULL,\n",
    "\tFOREIGN KEY (course_three, course_three_prof_last_name) REFERENCES Courses(course_code, course_professor_last_name) ON DELETE SET NULL\n",
    ");\n",
    "'''\n",
    "\n",
    "# execute\n",
    "c.execute(create_student_table_command)"
   ]
  },
  {
   "cell_type": "code",
   "execution_count": 64,
   "metadata": {
    "colab": {
     "base_uri": "https://localhost:8080/"
    },
    "executionInfo": {
     "elapsed": 3,
     "status": "ok",
     "timestamp": 1643754658618,
     "user": {
      "displayName": "Jiahao Liu",
      "photoUrl": "https://lh3.googleusercontent.com/a/default-user=s64",
      "userId": "00329461473733113741"
     },
     "user_tz": 300
    },
    "id": "UWtX0g5Sa3l7",
    "outputId": "622a59db-1ec4-4488-9704-1bea1e66d8a5"
   },
   "outputs": [
    {
     "data": {
      "text/plain": [
       "[('Courses',), ('Students',)]"
      ]
     },
     "execution_count": 64,
     "metadata": {},
     "output_type": "execute_result"
    }
   ],
   "source": [
    "# check to see that your tables were created\n",
    "c.execute(\"\"\"SELECT \n",
    "    name\n",
    "FROM \n",
    "    sqlite_master \n",
    "WHERE \n",
    "    type ='table' AND \n",
    "    name NOT LIKE 'sqlite_%';\"\"\")\n",
    "c.fetchall()"
   ]
  },
  {
   "cell_type": "code",
   "execution_count": 65,
   "metadata": {
    "colab": {
     "base_uri": "https://localhost:8080/"
    },
    "executionInfo": {
     "elapsed": 158,
     "status": "ok",
     "timestamp": 1643754659386,
     "user": {
      "displayName": "Jiahao Liu",
      "photoUrl": "https://lh3.googleusercontent.com/a/default-user=s64",
      "userId": "00329461473733113741"
     },
     "user_tz": 300
    },
    "id": "tRYgx4ErQy2z",
    "outputId": "219977fe-3439-4deb-f891-3e3677ed437d"
   },
   "outputs": [
    {
     "data": {
      "text/plain": [
       "[(0, 'course_code', 'char(8)', 1, None, 1),\n",
       " (1, 'course_name', 'varchar(255)', 1, None, 0),\n",
       " (2, 'course_professor_last_name', 'varchar(255)', 1, None, 2)]"
      ]
     },
     "execution_count": 65,
     "metadata": {},
     "output_type": "execute_result"
    }
   ],
   "source": [
    "c.execute('''PRAGMA table_info(Courses);''')\n",
    "c.fetchall()"
   ]
  },
  {
   "cell_type": "markdown",
   "metadata": {
    "id": "9yE5s8UonvGB"
   },
   "source": [
    "### 2. `INSERT` statement\n",
    "\n",
    "You can read more about the `INSERT` statement [here](https://www.w3schools.com/sql/sql_insert.asp)\n",
    "\n",
    "Insert the following information to the table(s) that you created:\n",
    "- A course with the following information: Code: CSCI0180, Name: “Computer Science: An Integrated Introduction”, Professor: Fisler.\n",
    "- A course with the following information: Code: MATH0100, Name: “Introductory Calculus, Part II”, and this course is offered by multiple professors: Professor Bae and  Professor Hu.\n",
    "- Professor Hu is also teaching a course with the following information: Code: MATH0200, Name: “Intermediate Calculus (Physics/Engineering)”\n",
    "- Two other courses of your choice that do not begin with CSCI or MATH.\n",
    "- Three students of your choice, each taking 1, 2 and 3 courses, respectively.\n",
    "\n",
    "> ### **Check-off:**\n",
    "Insert information according to the instructions above, and call a TA over once you are done. Don't forget to commit the changes! \n",
    "\n",
    "**Tip**: When inserting several values into your table, you can also use the syntax:\n",
    "`c.execute(“INSERT INTO table_name VALUES (?, ?, ?);”, (value1, value2, value3))`\n",
    "\n"
   ]
  },
  {
   "cell_type": "code",
   "execution_count": 66,
   "metadata": {
    "colab": {
     "base_uri": "https://localhost:8080/"
    },
    "executionInfo": {
     "elapsed": 3,
     "status": "ok",
     "timestamp": 1643754661470,
     "user": {
      "displayName": "Jiahao Liu",
      "photoUrl": "https://lh3.googleusercontent.com/a/default-user=s64",
      "userId": "00329461473733113741"
     },
     "user_tz": 300
    },
    "id": "k0-vcI-WUGDN",
    "outputId": "d37e67c1-df81-40d3-e4e0-7347d37cf320"
   },
   "outputs": [
    {
     "data": {
      "text/plain": [
       "<sqlite3.Cursor at 0x104ddb570>"
      ]
     },
     "execution_count": 66,
     "metadata": {},
     "output_type": "execute_result"
    }
   ],
   "source": [
    "# 1. A course with the following information: Code: CSCI0180, Name: “Computer Science: An Integrated Introduction”, Professor: Fisler.\n",
    "c.execute('''INSERT INTO Courses VALUES (?, ?, ?);''', ('CSCI0180', 'Computer Science: An Integrated Introduction', 'Fisler'))"
   ]
  },
  {
   "cell_type": "code",
   "execution_count": 67,
   "metadata": {
    "colab": {
     "base_uri": "https://localhost:8080/"
    },
    "executionInfo": {
     "elapsed": 155,
     "status": "ok",
     "timestamp": 1643754662652,
     "user": {
      "displayName": "Jiahao Liu",
      "photoUrl": "https://lh3.googleusercontent.com/a/default-user=s64",
      "userId": "00329461473733113741"
     },
     "user_tz": 300
    },
    "id": "4X3pV-_wGXqu",
    "outputId": "a5814948-366d-4625-c18b-e989fd5ed31b"
   },
   "outputs": [
    {
     "data": {
      "text/plain": [
       "<sqlite3.Cursor at 0x104ddb570>"
      ]
     },
     "execution_count": 67,
     "metadata": {},
     "output_type": "execute_result"
    }
   ],
   "source": [
    "# 2. A course with the following information: Code: MATH0100, Name: “Introductory Calculus, Part II”, and this course is offered by multiple professors: Professor Bae and Professor Hu.\n",
    "c.execute('''INSERT INTO Courses VALUES (?, ?, ?);''', ('MATH0100', 'Introductory Calculus, Part II', 'Bae'))\n",
    "c.execute('''INSERT INTO Courses VALUES (?, ?, ?);''', ('MATH0100', 'Introductory Calculus, Part II', 'Hu'))"
   ]
  },
  {
   "cell_type": "code",
   "execution_count": 68,
   "metadata": {
    "colab": {
     "base_uri": "https://localhost:8080/"
    },
    "executionInfo": {
     "elapsed": 4,
     "status": "ok",
     "timestamp": 1643754663089,
     "user": {
      "displayName": "Jiahao Liu",
      "photoUrl": "https://lh3.googleusercontent.com/a/default-user=s64",
      "userId": "00329461473733113741"
     },
     "user_tz": 300
    },
    "id": "tX4qkQbNUC6T",
    "outputId": "1dbdb96e-c17d-4cc9-cd21-83c1d8e50c0e"
   },
   "outputs": [
    {
     "data": {
      "text/plain": [
       "<sqlite3.Cursor at 0x104ddb570>"
      ]
     },
     "execution_count": 68,
     "metadata": {},
     "output_type": "execute_result"
    }
   ],
   "source": [
    "# 3. Professor Hu is also teaching a course with the following information: Code: MATH0200, Name: “Intermediate Calculus (Physics/Engineering)”\n",
    "c.execute('''INSERT INTO Courses VALUES (?, ?, ?);''', ('MATH0200', 'Intermediate Calculus (Physics/Engineering)', 'Hu'))"
   ]
  },
  {
   "cell_type": "code",
   "execution_count": 69,
   "metadata": {
    "colab": {
     "base_uri": "https://localhost:8080/"
    },
    "executionInfo": {
     "elapsed": 4,
     "status": "ok",
     "timestamp": 1643754663620,
     "user": {
      "displayName": "Jiahao Liu",
      "photoUrl": "https://lh3.googleusercontent.com/a/default-user=s64",
      "userId": "00329461473733113741"
     },
     "user_tz": 300
    },
    "id": "QQOYWFQbUXia",
    "outputId": "8261b198-9c8d-4bb8-8af5-e8ad8571219e"
   },
   "outputs": [
    {
     "data": {
      "text/plain": [
       "<sqlite3.Cursor at 0x104ddb570>"
      ]
     },
     "execution_count": 69,
     "metadata": {},
     "output_type": "execute_result"
    }
   ],
   "source": [
    "# 4. Two other courses of your choice that do not begin with CSCI or MATH.\n",
    "c.execute('''INSERT INTO Courses VALUES (?, ?, ?);''', ('CLPS0800', 'Language and the Mind', 'Morgan'))\n",
    "c.execute('''INSERT INTO Courses VALUES (?, ?, ?);''', ('CLPS1950', 'Deep Learning in Brains, Minds and Machines', 'Serre'))"
   ]
  },
  {
   "cell_type": "code",
   "execution_count": 70,
   "metadata": {
    "colab": {
     "base_uri": "https://localhost:8080/"
    },
    "executionInfo": {
     "elapsed": 4,
     "status": "ok",
     "timestamp": 1643754663769,
     "user": {
      "displayName": "Jiahao Liu",
      "photoUrl": "https://lh3.googleusercontent.com/a/default-user=s64",
      "userId": "00329461473733113741"
     },
     "user_tz": 300
    },
    "id": "X-lz8U0HU7Vu",
    "outputId": "96005585-86b3-47ce-d31e-781d0df47f20"
   },
   "outputs": [
    {
     "data": {
      "text/plain": [
       "<sqlite3.Cursor at 0x104ddb570>"
      ]
     },
     "execution_count": 70,
     "metadata": {},
     "output_type": "execute_result"
    }
   ],
   "source": [
    "# 5. Three students of your choice, each taking 1, 2 and 3 courses, respectively.\n",
    "c.execute('''INSERT INTO Students VALUES (?, ?, ?, ?, ?, ?, ?, ?);''', ('B0001', 'Shawn Liu', 'CSCI0180', 'Fisler', None, None, None, None))\n",
    "c.execute('''INSERT INTO Students VALUES (?, ?, ?, ?, ?, ?, ?, ?);''', ('B0002', 'Thomas Huang', 'MATH0100', 'Hu', 'MATH0200', 'Hu', None, None))\n",
    "c.execute('''INSERT INTO Students VALUES (?, ?, ?, ?, ?, ?, ?, ?);''', ('B0003', 'Jack Ma', 'MATH0100', 'Bae', 'CLPS0800', 'Morgan', 'CLPS1950', 'Serre'))"
   ]
  },
  {
   "cell_type": "code",
   "execution_count": 71,
   "metadata": {
    "colab": {
     "base_uri": "https://localhost:8080/"
    },
    "executionInfo": {
     "elapsed": 184,
     "status": "ok",
     "timestamp": 1643754664469,
     "user": {
      "displayName": "Jiahao Liu",
      "photoUrl": "https://lh3.googleusercontent.com/a/default-user=s64",
      "userId": "00329461473733113741"
     },
     "user_tz": 300
    },
    "id": "dtBu6puGTLDO",
    "outputId": "59f0df25-528d-4bdb-ecd3-0ca18113e722"
   },
   "outputs": [
    {
     "name": "stdout",
     "output_type": "stream",
     "text": [
      "('CSCI0180', 'Computer Science: An Integrated Introduction', 'Fisler')\n",
      "('MATH0100', 'Introductory Calculus, Part II', 'Bae')\n",
      "('MATH0100', 'Introductory Calculus, Part II', 'Hu')\n",
      "('MATH0200', 'Intermediate Calculus (Physics/Engineering)', 'Hu')\n",
      "('CLPS0800', 'Language and the Mind', 'Morgan')\n",
      "('CLPS1950', 'Deep Learning in Brains, Minds and Machines', 'Serre')\n",
      "('B0001', 'Shawn Liu', 'CSCI0180', 'Fisler', None, None, None, None)\n",
      "('B0002', 'Thomas Huang', 'MATH0100', 'Hu', 'MATH0200', 'Hu', None, None)\n",
      "('B0003', 'Jack Ma', 'MATH0100', 'Bae', 'CLPS0800', 'Morgan', 'CLPS1950', 'Serre')\n"
     ]
    }
   ],
   "source": [
    "# Use this to see what your table holds\n",
    "c.execute('''SELECT * FROM Courses;''')\n",
    "\n",
    "for row in c:\n",
    "  print(row)\n",
    "\n",
    "c.execute('''SELECT * FROM Students;''')\n",
    "for row in c:\n",
    "  print(row)"
   ]
  },
  {
   "cell_type": "markdown",
   "metadata": {
    "id": "cnuJEeO3nukn"
   },
   "source": [
    "### 3. `DELETE` statement\n",
    "\n",
    "You can read more about the `DELETE` statement [here](https://www.w3schools.com/sql/sql_delete.asp)\n",
    "\n",
    "How unfortunate! Professor Hu just caught a really bad flu and will not be able to teach the courses that they intended to teach this semester.\n",
    "\n",
    "The Math department thought that it would be okay to not offer MATH0200 with Professor Hu this semester. Delete the course “MATH0200” taught by Professor Hu.\n",
    "\n",
    "**Note**: When deleting an entry that is referenced in another table, make sure to go back to where you created the tables and include `ON DELETE SET NULL` after declaring the foreign key when creating the table. For example:\n",
    "\n",
    "```\n",
    "# If Students references another table S\n",
    "chools(school, city) and a school is deleted, \n",
    "# we want those school, city fields to be set to NULL for any students who attended that school.\n",
    "CREATE TABLE Students (\n",
    "\tname varchar(255) NOT NULL,\n",
    "\tschool varchar(255),\n",
    "\tcity varchar(255),\n",
    "\tPRIMARY KEY (name),\n",
    "\tFOREIGN KEY (school, city) REFERENCES Schools (school, city) ON DELETE SET NULL\n",
    ")\n",
    "```\n",
    "If you want to learn more about deleting a primary key that is referenced to in another table, read [here](https://www.techonthenet.com/sqlite/foreign_keys/foreign_delete.php).\n",
    "\n",
    "### 4. `UPDATE` statement\n",
    "\n",
    "You can read more about the `UPDATE` statement [here](https://www.w3schools.com/sql/sql_update.asp)\n",
    "\n",
    "The math department has decided to restructure its calculus sequence, where MATH0100 will now be called “Principles of Calculus.” Update all of the MATH0100 courses so that their names reflect this change. \n",
    "\n",
    "(**Note**: One thing to take note of is that primary keys cannot be updated this way. In order to change a primary key, we suggest removing the original entry and inserting a new one with the new key.)\n",
    "\n",
    "> ### **Check-off:**\n",
    "Modify the database using the information above (don’t forget to commit!), and call a TA over once you are done.\n"
   ]
  },
  {
   "cell_type": "code",
   "execution_count": 72,
   "metadata": {
    "colab": {
     "base_uri": "https://localhost:8080/"
    },
    "executionInfo": {
     "elapsed": 153,
     "status": "ok",
     "timestamp": 1643754772999,
     "user": {
      "displayName": "Jiahao Liu",
      "photoUrl": "https://lh3.googleusercontent.com/a/default-user=s64",
      "userId": "00329461473733113741"
     },
     "user_tz": 300
    },
    "id": "IMuKbvA6DxcS",
    "outputId": "f86d2623-34c7-4177-add2-d2d231632c65"
   },
   "outputs": [
    {
     "name": "stdout",
     "output_type": "stream",
     "text": [
      "('CSCI0180', 'Computer Science: An Integrated Introduction', 'Fisler')\n",
      "('MATH0100', 'Introductory Calculus, Part II', 'Bae')\n",
      "('MATH0100', 'Introductory Calculus, Part II', 'Hu')\n",
      "('CLPS0800', 'Language and the Mind', 'Morgan')\n",
      "('CLPS1950', 'Deep Learning in Brains, Minds and Machines', 'Serre')\n",
      "('B0001', 'Shawn Liu', 'CSCI0180', 'Fisler', None, None, None, None)\n",
      "('B0002', 'Thomas Huang', 'MATH0100', 'Hu', None, None, None, None)\n",
      "('B0003', 'Jack Ma', 'MATH0100', 'Bae', 'CLPS0800', 'Morgan', 'CLPS1950', 'Serre')\n"
     ]
    }
   ],
   "source": [
    "# DELETE\n",
    "delete_command = '''\n",
    "DELETE FROM Courses\n",
    "WHERE course_code = 'MATH0200' AND course_professor_last_name = 'Hu';\n",
    "'''\n",
    "# Don't forget to execute and commit!\n",
    "c.execute(delete_command)\n",
    "c.execute('''SELECT * FROM Courses;''')\n",
    "\n",
    "for row in c:\n",
    "  print(row)\n",
    "\n",
    "c.execute('''SELECT * FROM Students;''')\n",
    "for row in c:\n",
    "  print(row)"
   ]
  },
  {
   "cell_type": "code",
   "execution_count": 73,
   "metadata": {
    "colab": {
     "base_uri": "https://localhost:8080/"
    },
    "executionInfo": {
     "elapsed": 169,
     "status": "ok",
     "timestamp": 1643754797360,
     "user": {
      "displayName": "Jiahao Liu",
      "photoUrl": "https://lh3.googleusercontent.com/a/default-user=s64",
      "userId": "00329461473733113741"
     },
     "user_tz": 300
    },
    "id": "ixcBivwETvYq",
    "outputId": "4c3cfdf2-fd37-430d-b839-cb7fcc0692dd"
   },
   "outputs": [
    {
     "name": "stdout",
     "output_type": "stream",
     "text": [
      "('CSCI0180', 'Computer Science: An Integrated Introduction', 'Fisler')\n",
      "('MATH0100', 'Principles of Calculus', 'Bae')\n",
      "('MATH0100', 'Principles of Calculus', 'Hu')\n",
      "('CLPS0800', 'Language and the Mind', 'Morgan')\n",
      "('CLPS1950', 'Deep Learning in Brains, Minds and Machines', 'Serre')\n"
     ]
    }
   ],
   "source": [
    "\n",
    "# UPDATE\n",
    "update_command = '''\n",
    "UPDATE Courses\n",
    "SET course_name = 'Principles of Calculus'\n",
    "WHERE course_code = 'MATH0100';\n",
    "'''\n",
    "c.execute(update_command)\n",
    "\n",
    "c.execute('''SELECT * FROM Courses;''')\n",
    "for row in c:\n",
    "  print(row)"
   ]
  },
  {
   "cell_type": "markdown",
   "metadata": {
    "id": "1ArW0N1OONjp"
   },
   "source": [
    "## VI. More Advanced Queries! \n",
    "Using the database you just created, let's practice with some more advanced SQL operations you will encounter in the SQL assignment! "
   ]
  },
  {
   "cell_type": "markdown",
   "metadata": {
    "id": "lA2SO3DPdEJq"
   },
   "source": [
    "### 1. `HAVING` statement\n",
    "\n",
    "You can read more about the `HAVING` statement [here](https://www.w3schools.com/sql/sql_having.asp)\n",
    "\n",
    "The head of the Registrar wants to know which courses are taught by more than one professor.\n"
   ]
  },
  {
   "cell_type": "code",
   "execution_count": 74,
   "metadata": {},
   "outputs": [
    {
     "name": "stdout",
     "output_type": "stream",
     "text": [
      "Course ID =  MATH0100\n"
     ]
    }
   ],
   "source": [
    "having_command = '''\n",
    "SELECT \n",
    "    course_code\n",
    "FROM \n",
    "    Courses\n",
    "GROUP BY course_code\n",
    "HAVING COUNT(course_professor_last_name) > 1\n",
    "'''\n",
    "\n",
    "c.execute(having_command)\n",
    "for row in c:\n",
    "   print(\"Course ID = \", row[0])"
   ]
  },
  {
   "cell_type": "markdown",
   "metadata": {
    "id": "LFqVKkaZdGD4"
   },
   "source": [
    "### 2. `JOIN` statement\n",
    "\n",
    "You can read more about the `JOIN` statement [here](https://www.w3schools.com/sql/sql_join.asp)\n",
    "\n",
    "You have been tasked with finding the names of all students and course names for their `course_one`. \n",
    "\n",
    "The results look like: (student1's name, student1 course_one's course name)\n",
    "\n",
    "Hint: Join your two tables on the primary key(s) of the course table!"
   ]
  },
  {
   "cell_type": "code",
   "execution_count": 77,
   "metadata": {
    "colab": {
     "base_uri": "https://localhost:8080/"
    },
    "executionInfo": {
     "elapsed": 3,
     "status": "ok",
     "timestamp": 1643755322221,
     "user": {
      "displayName": "Jiahao Liu",
      "photoUrl": "https://lh3.googleusercontent.com/a/default-user=s64",
      "userId": "00329461473733113741"
     },
     "user_tz": 300
    },
    "id": "-213-UrudHTk",
    "outputId": "4d431d6c-e4e7-42fc-d9d7-0dd0b1bfc9f2"
   },
   "outputs": [
    {
     "name": "stdout",
     "output_type": "stream",
     "text": [
      "Course ID =  Computer Science: An Integrated Introduction\n",
      "Name =  Shawn Liu \n",
      "\n",
      "Course ID =  Principles of Calculus\n",
      "Name =  Thomas Huang \n",
      "\n",
      "Course ID =  Principles of Calculus\n",
      "Name =  Jack Ma \n",
      "\n"
     ]
    }
   ],
   "source": [
    "join_command = '''\n",
    "SELECT\n",
    "  a.course_name, b.name\n",
    "FROM\n",
    "  Courses a\n",
    "JOIN Students b ON a.course_code = b.course_one\n",
    "AND a.course_professor_last_name = b.course_one_prof_last_name;\n",
    "'''\n",
    "\n",
    "c.execute(join_command)\n",
    "\n",
    "for row in c:\n",
    "   print(\"Course ID = \", row[0])\n",
    "   print(\"Name = \", row[1], \"\\n\")"
   ]
  },
  {
   "cell_type": "markdown",
   "metadata": {
    "id": "dzS20_YodMM-"
   },
   "source": [
    "### 3. `WITH` statement\n",
    "\n",
    "You can read more about the `WITH` statement [here](https://www.geeksforgeeks.org/sql-with-clause/)\n",
    "\n",
    "Of all the courses at Brown taught by more than one professor, you are tasked to find the course which is taught by the most number of professors and what that number is.\n"
   ]
  },
  {
   "cell_type": "code",
   "execution_count": null,
   "metadata": {
    "colab": {
     "base_uri": "https://localhost:8080/"
    },
    "executionInfo": {
     "elapsed": 139,
     "status": "ok",
     "timestamp": 1643755493645,
     "user": {
      "displayName": "Jiahao Liu",
      "photoUrl": "https://lh3.googleusercontent.com/a/default-user=s64",
      "userId": "00329461473733113741"
     },
     "user_tz": 300
    },
    "id": "ZgYAOJIrdMt0",
    "outputId": "1a79586b-68f5-4160-e1ab-649ee5ef8288"
   },
   "outputs": [
    {
     "name": "stdout",
     "output_type": "stream",
     "text": [
      "Course ID =  MATH0100\n",
      "Count =  2 \n",
      "\n"
     ]
    }
   ],
   "source": [
    "with_command = '''\n",
    "WITH subquery AS \n",
    "  (SELECT course_code, COUNT(course_code) as count\n",
    "  FROM Courses\n",
    "  GROUP BY course_code\n",
    "  HAVING COUNT(course_code) > 1\n",
    ")\n",
    "\n",
    "SELECT\n",
    "  course_code, max(count)\n",
    "  FROM subquery\n",
    ";\n",
    "'''\n",
    "c.execute(with_command)\n",
    "for row in c:\n",
    "   print(\"Course ID = \", row[0])\n",
    "   print(\"Count = \", row[1], \"\\n\")"
   ]
  },
  {
   "cell_type": "markdown",
   "metadata": {
    "id": "fT6uOwXiXffL"
   },
   "source": [
    "### 4. `CASE` statement\n",
    "\n",
    "You can read more about the `CASE` statement [here](https://www.w3schools.com/sql/sql_case.asp)\n",
    "\n",
    "You have been tasked to write a query that shows the number of professors at Brown with names that start with A through C, and the number of professors at Brown with names that start with D through Z."
   ]
  },
  {
   "cell_type": "code",
   "execution_count": null,
   "metadata": {
    "colab": {
     "base_uri": "https://localhost:8080/"
    },
    "executionInfo": {
     "elapsed": 167,
     "status": "ok",
     "timestamp": 1643755737028,
     "user": {
      "displayName": "Jiahao Liu",
      "photoUrl": "https://lh3.googleusercontent.com/a/default-user=s64",
      "userId": "00329461473733113741"
     },
     "user_tz": 300
    },
    "id": "gbUAZRXDXgAU",
    "outputId": "233d0da0-c768-4497-afa5-f2617f6ad5a5"
   },
   "outputs": [
    {
     "name": "stdout",
     "output_type": "stream",
     "text": [
      "professor_name_group =  A-C\n",
      "professors =  1 \n",
      "\n",
      "professor_name_group =  D-Z\n",
      "professors =  4 \n",
      "\n"
     ]
    }
   ],
   "source": [
    "case_command = '''\n",
    "SELECT \n",
    "  CASE WHEN SUBSTR(course_professor_last_name,1,1) < 'D' THEN 'A-C'\n",
    "       WHEN SUBSTR(course_professor_last_name,1,1) >= 'D' THEN 'D-Z'\n",
    "       ELSE NULL END AS professor_name_group,\n",
    "  COUNT(1) as professors\n",
    "FROM\n",
    "  Courses\n",
    "GROUP BY 1\n",
    ";\n",
    "'''\n",
    "c.execute(case_command)\n",
    "for row in c:\n",
    "   print(\"professor_name_group = \", row[0])\n",
    "   print(\"professors = \", row[1], \"\\n\")"
   ]
  },
  {
   "cell_type": "markdown",
   "metadata": {
    "id": "f-M6zhBmviJy"
   },
   "source": [
    "### 5. Closing\n",
    "Close the cursor and the connection when you are done with the lab. Now get yourself checked off 🎉"
   ]
  },
  {
   "cell_type": "code",
   "execution_count": null,
   "metadata": {
    "id": "QuH3O7v1vo1H"
   },
   "outputs": [],
   "source": [
    "c.close()\n",
    "conn.close()"
   ]
  },
  {
   "cell_type": "markdown",
   "metadata": {
    "id": "OernQBr24XjV"
   },
   "source": [
    "### Credit\n",
    "\n",
    "Made by Maggie (mwu27) and Nam (ndo3) in Spring 2020. \n",
    "Updated by Dharam (dmadnani) in Spring 2021, Aakansha (amathur7) in Spring 2022"
   ]
  },
  {
   "cell_type": "code",
   "execution_count": null,
   "metadata": {
    "id": "Z_fylWIfQP-Z"
   },
   "outputs": [],
   "source": []
  }
 ],
 "metadata": {
  "colab": {
   "collapsed_sections": [
    "1RwCAFtrnoro",
    "1ArW0N1OONjp"
   ],
   "name": "sql_stencil.ipynb",
   "provenance": [
    {
     "file_id": "1YDuN98CBrawO7BhFKAbii7GpyzuOsTM4",
     "timestamp": 1610286184883
    },
    {
     "file_id": "1oay9H75YRnybP1AXTzVCIx9vsfUbKFXi",
     "timestamp": 1579284373036
    }
   ]
  },
  "kernelspec": {
   "display_name": "Python 3 (ipykernel)",
   "language": "python",
   "name": "python3"
  },
  "language_info": {
   "codemirror_mode": {
    "name": "ipython",
    "version": 3
   },
   "file_extension": ".py",
   "mimetype": "text/x-python",
   "name": "python",
   "nbconvert_exporter": "python",
   "pygments_lexer": "ipython3",
   "version": "3.9.10"
  }
 },
 "nbformat": 4,
 "nbformat_minor": 1
}
